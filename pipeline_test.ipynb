{
 "cells": [
  {
   "cell_type": "markdown",
   "metadata": {},
   "source": [
    "Pipeline Test\n",
    "========\n",
    "\n",
    "Somewhat following along with what Chris Albon did [here](https://chrisalbon.com/machine-learning/pipelines_with_parameter_optimization.html), combined with what I did in the other notebook. Since I've never used scikit-learn's `pipeline` object before, this is a little of a learning process for me."
   ]
  },
  {
   "cell_type": "code",
   "execution_count": 1,
   "metadata": {
    "collapsed": true
   },
   "outputs": [],
   "source": [
    "%matplotlib inline\n",
    "\n",
    "import matplotlib.pyplot as plt\n",
    "import numpy as np\n",
    "import pandas as pd\n",
    "\n",
    "from sklearn.datasets import load_breast_cancer"
   ]
  },
  {
   "cell_type": "code",
   "execution_count": 2,
   "metadata": {
    "collapsed": true
   },
   "outputs": [],
   "source": [
    "cancer = load_breast_cancer()\n",
    "X = cancer.data\n",
    "y = cancer.target"
   ]
  },
  {
   "cell_type": "code",
   "execution_count": 3,
   "metadata": {
    "collapsed": true
   },
   "outputs": [],
   "source": [
    "from sklearn.decomposition import PCA\n",
    "from sklearn.linear_model import LogisticRegression\n",
    "from sklearn.pipeline import Pipeline\n",
    "from sklearn.preprocessing import StandardScaler\n",
    "from sklearn.svm import SVC\n",
    "\n",
    "# create necessary objects\n",
    "scaler = StandardScaler()\n",
    "pca = PCA()\n",
    "svc = SVC()\n",
    "logistic = LogisticRegression()\n",
    "\n",
    "pipe_mm = Pipeline(steps=[('sc', scaler), ('svc', svc)])\n",
    "pipe_ca = Pipeline(steps=[('sc', scaler), ('pca', pca), ('logistic', logistic)])"
   ]
  },
  {
   "cell_type": "markdown",
   "metadata": {},
   "source": [
    "We have our two pipelines: my two-step scale-and-fit, and Chris' three-step scale-transform-fit. Our pipeline can do parameter optimization, but we need to set up what values to adjust and within what ranges. I'll set up the parameters and do a grid search with them to find the best model."
   ]
  },
  {
   "cell_type": "code",
   "execution_count": 12,
   "metadata": {},
   "outputs": [
    {
     "data": {
      "text/plain": [
       "GridSearchCV(cv=None, error_score='raise',\n",
       "       estimator=Pipeline(steps=[('sc', StandardScaler(copy=True, with_mean=True, with_std=True)), ('pca', PCA(copy=True, iterated_power='auto', n_components=None, random_state=None,\n",
       "  svd_solver='auto', tol=0.0, whiten=False)), ('logistic', LogisticRegression(C=1.0, class_weight=None, dual=False, fit_inte...y='l2', random_state=None, solver='liblinear', tol=0.0001,\n",
       "          verbose=0, warm_start=False))]),\n",
       "       fit_params={}, iid=True, n_jobs=1,\n",
       "       param_grid={'pca__n_components': array([ 1,  2,  3,  4,  5,  6,  7,  8,  9, 10, 11, 12, 13, 14, 15, 16, 17,\n",
       "       18, 19, 20, 21, 22, 23, 24, 25, 26, 27, 28, 29, 30]), 'logistic__C': array([  1.00000e-04,   1.45635e-04,   2.12095e-04,   3.08884e-04,\n",
       "         4.49843e-04,   6.55129e-04,   9.54095e-0....23746e+03,   4.71487e+03,\n",
       "         6.86649e+03,   1.00000e+04]), 'logistic__penalty': ['l1', 'l2']},\n",
       "       pre_dispatch='2*n_jobs', refit=True, return_train_score=True,\n",
       "       scoring=None, verbose=0)"
      ]
     },
     "execution_count": 12,
     "metadata": {},
     "output_type": "execute_result"
    }
   ],
   "source": [
    "from sklearn.model_selection import GridSearchCV\n",
    "\n",
    "gamma = np.logspace(-6, 1, 50)\n",
    "n_components = np.arange(1, X.shape[1] + 1)\n",
    "reg_c = np.logspace(-4, 4, 50)\n",
    "penalty = ['l1', 'l2']\n",
    "\n",
    "parameters_mm = dict(svc__gamma=gamma)\n",
    "parameters_ca = dict(pca__n_components=n_components,\n",
    "                     logistic__C=reg_c,\n",
    "                     logistic__penalty=penalty)\n",
    "\n",
    "grid_mm = GridSearchCV(pipe_mm, parameters_mm)\n",
    "grid_ca = GridSearchCV(pipe_ca, parameters_ca)\n",
    "\n",
    "grid_mm.fit(X, y)\n",
    "grid_ca.fit(X, y)"
   ]
  },
  {
   "cell_type": "markdown",
   "metadata": {},
   "source": [
    "Now, let's view what worked the best for our two pipelines..."
   ]
  },
  {
   "cell_type": "code",
   "execution_count": 13,
   "metadata": {},
   "outputs": [
    {
     "name": "stdout",
     "output_type": "stream",
     "text": [
      "Best gamma: 0.0193069772888\n",
      "Best Number Of Components: 9\n",
      "Best C: 0.0409491506238\n",
      "Best Penalty: l2\n"
     ]
    }
   ],
   "source": [
    "print('Best gamma:', grid_mm.best_estimator_.get_params()['svc__gamma'])\n",
    "\n",
    "# View The Best Parameters\n",
    "print('Best Number Of Components:', grid_ca.best_estimator_.get_params()['pca__n_components'])\n",
    "print('Best C:', grid_ca.best_estimator_.get_params()['logistic__C'])\n",
    "print('Best Penalty:', grid_ca.best_estimator_.get_params()['logistic__penalty'])"
   ]
  },
  {
   "cell_type": "markdown",
   "metadata": {},
   "source": [
    "Our gamma roughly matches what I found in my exploratory analysis, so good news is that I probably didn't mess anything up there! Now, let's finally score our models using a 3-fold cross validation, using the models with the best parameters."
   ]
  },
  {
   "cell_type": "code",
   "execution_count": 14,
   "metadata": {},
   "outputs": [
    {
     "data": {
      "text/plain": [
       "array([ 0.96842105,  0.98421053,  0.97354497])"
      ]
     },
     "execution_count": 14,
     "metadata": {},
     "output_type": "execute_result"
    }
   ],
   "source": [
    "from sklearn.model_selection import cross_val_score\n",
    "\n",
    "cross_val_score(pipe_mm, X, y)"
   ]
  },
  {
   "cell_type": "code",
   "execution_count": 15,
   "metadata": {},
   "outputs": [
    {
     "data": {
      "text/plain": [
       "array([ 0.97894737,  0.97368421,  0.97354497])"
      ]
     },
     "execution_count": 15,
     "metadata": {},
     "output_type": "execute_result"
    }
   ],
   "source": [
    "cross_val_score(pipe_ca, X, y)"
   ]
  },
  {
   "cell_type": "markdown",
   "metadata": {},
   "source": [
    "OK, so somewhat similar... It's hard to tell which model may be better, so let's increase the number of folds and save the results."
   ]
  },
  {
   "cell_type": "code",
   "execution_count": 17,
   "metadata": {},
   "outputs": [
    {
     "name": "stdout",
     "output_type": "stream",
     "text": [
      "MM: 0.975 +/- 0.025\n",
      "CA: 0.982 +/- 0.014\n"
     ]
    }
   ],
   "source": [
    "scores_mm = cross_val_score(pipe_mm, X, y, cv=10)\n",
    "scores_ca = cross_val_score(pipe_ca, X, y, cv=10)\n",
    "\n",
    "print(f'MM: {scores_mm.mean():.3f} +/- {scores_mm.std(ddof=0):.3f}')\n",
    "print(f'CA: {scores_ca.mean():.3f} +/- {scores_ca.std(ddof=0):.3f}')"
   ]
  },
  {
   "cell_type": "markdown",
   "metadata": {},
   "source": [
    "Looks like the scale-transform-fit pipeline for Chris Albon works slightly better than my simplified versio. The pipeline he set up seems like a better idea for this problem, and in general would be better, so I am fine with that result."
   ]
  }
 ],
 "metadata": {
  "kernelspec": {
   "display_name": "Python 3",
   "language": "python",
   "name": "python3"
  },
  "language_info": {
   "codemirror_mode": {
    "name": "ipython",
    "version": 3
   },
   "file_extension": ".py",
   "mimetype": "text/x-python",
   "name": "python",
   "nbconvert_exporter": "python",
   "pygments_lexer": "ipython3",
   "version": "3.6.1"
  }
 },
 "nbformat": 4,
 "nbformat_minor": 2
}
